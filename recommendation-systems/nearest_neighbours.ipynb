{
 "cells": [
  {
   "cell_type": "code",
   "execution_count": 1,
   "metadata": {
    "collapsed": true
   },
   "outputs": [],
   "source": [
    "__author__ = \"whackadoodle\"\n",
    "\n",
    "import numpy as np\n",
    "import pandas as pd\n"
   ]
  },
  {
   "cell_type": "markdown",
   "metadata": {},
   "source": [
    "### Book Ratings Dataframe "
   ]
  },
  {
   "cell_type": "markdown",
   "metadata": {},
   "source": [
    "Load the ratings of books from a CSV file into a dataframe"
   ]
  },
  {
   "cell_type": "code",
   "execution_count": 2,
   "metadata": {
    "collapsed": true
   },
   "outputs": [],
   "source": [
    "book_ratings_file = \"./BX-Book-Ratings.csv\"\n",
    "\n",
    "book_ratings = pd.read_csv(book_ratings_file, sep=\";\", header=0, names=[\"user\", \"isbn\", \"rating\"])"
   ]
  },
  {
   "cell_type": "code",
   "execution_count": 3,
   "metadata": {
    "collapsed": false
   },
   "outputs": [
    {
     "name": "stdout",
     "output_type": "stream",
     "text": [
      "<class 'pandas.core.frame.DataFrame'>\n",
      "RangeIndex: 1149780 entries, 0 to 1149779\n",
      "Data columns (total 3 columns):\n",
      "user      1149780 non-null int64\n",
      "isbn      1149780 non-null object\n",
      "rating    1149780 non-null int64\n",
      "dtypes: int64(2), object(1)\n",
      "memory usage: 26.3+ MB\n"
     ]
    }
   ],
   "source": [
    "book_ratings.info()"
   ]
  },
  {
   "cell_type": "code",
   "execution_count": 4,
   "metadata": {
    "collapsed": false
   },
   "outputs": [
    {
     "data": {
      "text/html": [
       "<div>\n",
       "<table border=\"1\" class=\"dataframe\">\n",
       "  <thead>\n",
       "    <tr style=\"text-align: right;\">\n",
       "      <th></th>\n",
       "      <th>user</th>\n",
       "      <th>isbn</th>\n",
       "      <th>rating</th>\n",
       "    </tr>\n",
       "  </thead>\n",
       "  <tbody>\n",
       "    <tr>\n",
       "      <th>0</th>\n",
       "      <td>276725</td>\n",
       "      <td>034545104X</td>\n",
       "      <td>0</td>\n",
       "    </tr>\n",
       "    <tr>\n",
       "      <th>1</th>\n",
       "      <td>276726</td>\n",
       "      <td>0155061224</td>\n",
       "      <td>5</td>\n",
       "    </tr>\n",
       "    <tr>\n",
       "      <th>2</th>\n",
       "      <td>276727</td>\n",
       "      <td>0446520802</td>\n",
       "      <td>0</td>\n",
       "    </tr>\n",
       "    <tr>\n",
       "      <th>3</th>\n",
       "      <td>276729</td>\n",
       "      <td>052165615X</td>\n",
       "      <td>3</td>\n",
       "    </tr>\n",
       "    <tr>\n",
       "      <th>4</th>\n",
       "      <td>276729</td>\n",
       "      <td>0521795028</td>\n",
       "      <td>6</td>\n",
       "    </tr>\n",
       "  </tbody>\n",
       "</table>\n",
       "</div>"
      ],
      "text/plain": [
       "     user        isbn  rating\n",
       "0  276725  034545104X       0\n",
       "1  276726  0155061224       5\n",
       "2  276727  0446520802       0\n",
       "3  276729  052165615X       3\n",
       "4  276729  0521795028       6"
      ]
     },
     "execution_count": 4,
     "metadata": {},
     "output_type": "execute_result"
    }
   ],
   "source": [
    "book_ratings.head()"
   ]
  },
  {
   "cell_type": "markdown",
   "metadata": {},
   "source": [
    "### Books Dataframe"
   ]
  },
  {
   "cell_type": "markdown",
   "metadata": {},
   "source": [
    "Load the Metadata of books into a dataframe"
   ]
  },
  {
   "cell_type": "code",
   "execution_count": 5,
   "metadata": {
    "collapsed": false
   },
   "outputs": [
    {
     "name": "stderr",
     "output_type": "stream",
     "text": [
      "Skipping line 6452: expected 8 fields, saw 9\n",
      "Skipping line 43667: expected 8 fields, saw 10\n",
      "Skipping line 51751: expected 8 fields, saw 9\n",
      "\n",
      "Skipping line 92038: expected 8 fields, saw 9\n",
      "Skipping line 104319: expected 8 fields, saw 9\n",
      "Skipping line 121768: expected 8 fields, saw 9\n",
      "\n",
      "Skipping line 144058: expected 8 fields, saw 9\n",
      "Skipping line 150789: expected 8 fields, saw 9\n",
      "Skipping line 157128: expected 8 fields, saw 9\n",
      "Skipping line 180189: expected 8 fields, saw 9\n",
      "Skipping line 185738: expected 8 fields, saw 9\n",
      "\n",
      "Skipping line 209388: expected 8 fields, saw 9\n",
      "Skipping line 220626: expected 8 fields, saw 9\n",
      "Skipping line 227933: expected 8 fields, saw 11\n",
      "Skipping line 228957: expected 8 fields, saw 10\n",
      "Skipping line 245933: expected 8 fields, saw 9\n",
      "Skipping line 251296: expected 8 fields, saw 9\n",
      "Skipping line 259941: expected 8 fields, saw 9\n",
      "Skipping line 261529: expected 8 fields, saw 9\n",
      "\n"
     ]
    }
   ],
   "source": [
    "books_file = \"./BX-Books.csv\"\n",
    "\n",
    "books = pd.read_csv(books_file, sep=\";\", error_bad_lines=False, usecols=[0, 1, 2], index_col=0, names=[\"isbn\", \"title\", \"author\"])"
   ]
  },
  {
   "cell_type": "code",
   "execution_count": 6,
   "metadata": {
    "collapsed": false
   },
   "outputs": [
    {
     "data": {
      "text/html": [
       "<div>\n",
       "<table border=\"1\" class=\"dataframe\">\n",
       "  <thead>\n",
       "    <tr style=\"text-align: right;\">\n",
       "      <th></th>\n",
       "      <th>title</th>\n",
       "      <th>author</th>\n",
       "    </tr>\n",
       "    <tr>\n",
       "      <th>isbn</th>\n",
       "      <th></th>\n",
       "      <th></th>\n",
       "    </tr>\n",
       "  </thead>\n",
       "  <tbody>\n",
       "    <tr>\n",
       "      <th>ISBN</th>\n",
       "      <td>Book-Title</td>\n",
       "      <td>Book-Author</td>\n",
       "    </tr>\n",
       "    <tr>\n",
       "      <th>0195153448</th>\n",
       "      <td>Classical Mythology</td>\n",
       "      <td>Mark P. O. Morford</td>\n",
       "    </tr>\n",
       "    <tr>\n",
       "      <th>0002005018</th>\n",
       "      <td>Clara Callan</td>\n",
       "      <td>Richard Bruce Wright</td>\n",
       "    </tr>\n",
       "    <tr>\n",
       "      <th>0060973129</th>\n",
       "      <td>Decision in Normandy</td>\n",
       "      <td>Carlo D'Este</td>\n",
       "    </tr>\n",
       "    <tr>\n",
       "      <th>0374157065</th>\n",
       "      <td>Flu: The Story of the Great Influenza Pandemic...</td>\n",
       "      <td>Gina Bari Kolata</td>\n",
       "    </tr>\n",
       "  </tbody>\n",
       "</table>\n",
       "</div>"
      ],
      "text/plain": [
       "                                                        title  \\\n",
       "isbn                                                            \n",
       "ISBN                                               Book-Title   \n",
       "0195153448                                Classical Mythology   \n",
       "0002005018                                       Clara Callan   \n",
       "0060973129                               Decision in Normandy   \n",
       "0374157065  Flu: The Story of the Great Influenza Pandemic...   \n",
       "\n",
       "                          author  \n",
       "isbn                              \n",
       "ISBN                 Book-Author  \n",
       "0195153448    Mark P. O. Morford  \n",
       "0002005018  Richard Bruce Wright  \n",
       "0060973129          Carlo D'Este  \n",
       "0374157065      Gina Bari Kolata  "
      ]
     },
     "execution_count": 6,
     "metadata": {},
     "output_type": "execute_result"
    }
   ],
   "source": [
    "books.head()"
   ]
  },
  {
   "cell_type": "markdown",
   "metadata": {
    "collapsed": true
   },
   "source": [
    "### Function to find Book metadta"
   ]
  },
  {
   "cell_type": "code",
   "execution_count": 7,
   "metadata": {
    "collapsed": true
   },
   "outputs": [],
   "source": [
    "def find_book_meta(isbn):\n",
    "    title = books.at[isbn, \"title\"]\n",
    "    author = books.at[isbn, \"author\"]\n",
    "    \n",
    "    return title, author"
   ]
  },
  {
   "cell_type": "markdown",
   "metadata": {},
   "source": [
    "### Function to find the Favourite Books of a User"
   ]
  },
  {
   "cell_type": "markdown",
   "metadata": {},
   "source": [
    "The favourite books correspond to the books which were given high ratings by the user"
   ]
  },
  {
   "cell_type": "code",
   "execution_count": 12,
   "metadata": {
    "collapsed": true
   },
   "outputs": [],
   "source": [
    "def find_favourite_books(user, N):\n",
    "    user_ratings = book_ratings[book_ratings[\"user\"]==user]\n",
    "    sorted_ratings = pd.DataFrame.sort_values(user_ratings, ['rating'], ascending=[0])[:N]\n",
    "    sorted_ratings[\"title\"] = sorted_ratings[\"isbn\"].apply(find_book_meta)\n",
    "    return sorted_ratings"
   ]
  },
  {
   "cell_type": "code",
   "execution_count": 14,
   "metadata": {
    "collapsed": false
   },
   "outputs": [
    {
     "data": {
      "text/html": [
       "<div>\n",
       "<table border=\"1\" class=\"dataframe\">\n",
       "  <thead>\n",
       "    <tr style=\"text-align: right;\">\n",
       "      <th></th>\n",
       "      <th>user</th>\n",
       "      <th>isbn</th>\n",
       "      <th>rating</th>\n",
       "      <th>title</th>\n",
       "    </tr>\n",
       "  </thead>\n",
       "  <tbody>\n",
       "    <tr>\n",
       "      <th>844935</th>\n",
       "      <td>204622</td>\n",
       "      <td>0671027360</td>\n",
       "      <td>10</td>\n",
       "      <td>(Angels &amp;amp; Demons, Dan Brown)</td>\n",
       "    </tr>\n",
       "    <tr>\n",
       "      <th>844926</th>\n",
       "      <td>204622</td>\n",
       "      <td>0385504209</td>\n",
       "      <td>10</td>\n",
       "      <td>(The Da Vinci Code, Dan Brown)</td>\n",
       "    </tr>\n",
       "    <tr>\n",
       "      <th>844955</th>\n",
       "      <td>204622</td>\n",
       "      <td>0967560500</td>\n",
       "      <td>10</td>\n",
       "      <td>(Natural Hormonal Enhancement, Rob Faigin)</td>\n",
       "    </tr>\n",
       "    <tr>\n",
       "      <th>844958</th>\n",
       "      <td>204622</td>\n",
       "      <td>097173660X</td>\n",
       "      <td>9</td>\n",
       "      <td>(Life After School Explained, Cap &amp;amp; Compass)</td>\n",
       "    </tr>\n",
       "    <tr>\n",
       "      <th>844920</th>\n",
       "      <td>204622</td>\n",
       "      <td>0060935464</td>\n",
       "      <td>9</td>\n",
       "      <td>(To Kill a Mockingbird, Harper Lee)</td>\n",
       "    </tr>\n",
       "  </tbody>\n",
       "</table>\n",
       "</div>"
      ],
      "text/plain": [
       "          user        isbn  rating  \\\n",
       "844935  204622  0671027360      10   \n",
       "844926  204622  0385504209      10   \n",
       "844955  204622  0967560500      10   \n",
       "844958  204622  097173660X       9   \n",
       "844920  204622  0060935464       9   \n",
       "\n",
       "                                                   title  \n",
       "844935                  (Angels &amp; Demons, Dan Brown)  \n",
       "844926                    (The Da Vinci Code, Dan Brown)  \n",
       "844955        (Natural Hormonal Enhancement, Rob Faigin)  \n",
       "844958  (Life After School Explained, Cap &amp; Compass)  \n",
       "844920               (To Kill a Mockingbird, Harper Lee)  "
      ]
     },
     "execution_count": 14,
     "metadata": {},
     "output_type": "execute_result"
    }
   ],
   "source": [
    "find_favourite_books(204622, 5)"
   ]
  },
  {
   "cell_type": "code",
   "execution_count": null,
   "metadata": {
    "collapsed": true
   },
   "outputs": [],
   "source": []
  }
 ],
 "metadata": {
  "kernelspec": {
   "display_name": "Python 2",
   "language": "python",
   "name": "python2"
  },
  "language_info": {
   "codemirror_mode": {
    "name": "ipython",
    "version": 2
   },
   "file_extension": ".py",
   "mimetype": "text/x-python",
   "name": "python",
   "nbconvert_exporter": "python",
   "pygments_lexer": "ipython2",
   "version": "2.7.11"
  }
 },
 "nbformat": 4,
 "nbformat_minor": 0
}
